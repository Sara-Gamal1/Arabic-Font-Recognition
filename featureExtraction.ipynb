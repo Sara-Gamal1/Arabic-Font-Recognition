{
 "cells": [
  {
   "cell_type": "code",
   "execution_count": 32,
   "metadata": {},
   "outputs": [],
   "source": [
    "import cv2 as cv\n",
    "\n",
    "from tqdm import tqdm\n",
    "\n",
    "from sklearn.model_selection import train_test_split\n",
    "from sklearn.cluster import MiniBatchKMeans\n",
    "import pickle\n",
    "from sklearn import svm\n",
    "from sklearn.ensemble import RandomForestClassifier\n",
    "from sklearn.neighbors import KNeighborsClassifier\n",
    "import xgboost as xgb\n",
    "# DataSetPATH = \"../input/fonts-dataset-cmp/fonts-dataset\" # for kaggle\n",
    "DataSetPATH = \"./Dataset\" # for local\n",
    "sift = cv.SIFT_create(\n",
    "    nfeatures=200,  # Allow more keypoints\n",
    "    contrastThreshold=0.005,  # Adjusted for better sensitivity\n",
    "    nOctaveLayers=5,  # Adjusted for multi-scale detection\n",
    "    edgeThreshold=10,  # More edge sensitivity\n",
    "   \n",
    ")\n",
    "import import_ipynb\n",
    "\n",
    "from preprocessing import *\n"
   ]
  },
  {
   "cell_type": "markdown",
   "metadata": {},
   "source": [
    "<span style=\"color:#fff; font-family: 'Bebas Neue'; font-size: 3em;\" >Data Extraction</span>"
   ]
  },
  {
   "cell_type": "code",
   "execution_count": null,
   "metadata": {},
   "outputs": [],
   "source": [
    "Scheherazade=[]\n",
    "destination = \"./Corrected/Scheherazade New\"\n",
    "if not os.path.exists(destination):\n",
    "    os.makedirs(destination)\n",
    "\n",
    "for filepath in tqdm(sorted(glob.glob(f\"{DataSetPATH}/Scheherazade New/*.jpeg\"))):\n",
    "    filename = os.path.basename(filepath)\n",
    "    img = io.imread(filepath)\n",
    "    corrected = Preprocessing(img)\n",
    "    if corrected is not None:\n",
    "        Scheherazade.append(corrected)\n",
    "        \n",
    "        # Scheherazade.append(extract_features(img))\n",
    "        # io.imsave(f\"{destination}/{filename}\", corrected, check_contrast=False)"
   ]
  },
  {
   "cell_type": "code",
   "execution_count": 7,
   "metadata": {},
   "outputs": [
    {
     "name": "stderr",
     "output_type": "stream",
     "text": [
      "100%|██████████| 1000/1000 [00:43<00:00, 22.77it/s]\n"
     ]
    }
   ],
   "source": [
    "destination = \"./Corrected/IBM Plex Sans Arabic\"\n",
    "if not os.path.exists(destination):\n",
    "    os.makedirs(destination)\n",
    "\n",
    "IBM = []\n",
    "for filepath in tqdm(sorted(glob.glob(f\"{DataSetPATH}/IBM Plex Sans Arabic/*.jpeg\"))):\n",
    "    filename = os.path.basename(filepath)\n",
    "    img = io.imread(filepath)\n",
    "    corrected = Preprocessing(img)\n",
    "    if corrected is not None:\n",
    "        IBM.append(corrected)\n",
    "        # IBM.append(extract_features(img))\n",
    "        # io.imsave(\n",
    "        #     f\"./Corrected/IBM Plex Sans Arabic/{filename}\",\n",
    "        #     corrected,\n",
    "        #     check_contrast=False,\n",
    "        # )"
   ]
  },
  {
   "cell_type": "code",
   "execution_count": 8,
   "metadata": {},
   "outputs": [
    {
     "name": "stderr",
     "output_type": "stream",
     "text": [
      "100%|██████████| 1000/1000 [00:46<00:00, 21.68it/s]\n"
     ]
    }
   ],
   "source": [
    "destination = \"./Corrected/Marhey\"\n",
    "if not os.path.exists(destination):\n",
    "    os.makedirs(destination)\n",
    "\n",
    "Marhey=[]\n",
    "for filepath in tqdm(sorted(glob.glob(f\"{DataSetPATH}/Marhey/*.jpeg\"))):\n",
    "    filename = os.path.basename(filepath)\n",
    "    img = io.imread(filepath)\n",
    "    corrected = Preprocessing(img)\n",
    "    if corrected is not None:\n",
    "        Marhey.append(corrected)\n",
    "        # Marhey.append(extract_features(img))\n",
    "        # io.imsave(\n",
    "        #     f\"./Corrected/Marhey/{filename}\",\n",
    "        #     corrected,\n",
    "        #     check_contrast=False,\n",
    "        # )\n"
   ]
  },
  {
   "cell_type": "code",
   "execution_count": 9,
   "metadata": {},
   "outputs": [
    {
     "name": "stderr",
     "output_type": "stream",
     "text": [
      "100%|██████████| 1000/1000 [00:53<00:00, 18.84it/s]\n"
     ]
    }
   ],
   "source": [
    "destination = \"./Corrected/Lemonada\"\n",
    "if not os.path.exists(destination):\n",
    "    os.makedirs(destination)\n",
    "\n",
    "Lemonada=[]\n",
    "for filepath in tqdm(sorted(glob.glob(f\"{DataSetPATH}/Lemonada/*.jpeg\"))):\n",
    "    filename = os.path.basename(filepath)\n",
    "    img = io.imread(filepath)\n",
    "    corrected = Preprocessing(img)\n",
    "    if corrected is not None:\n",
    "        Lemonada.append(corrected)\n",
    "        \n",
    "        # Lemonada.append(extract_features(img))\n",
    "        # io.imsave(\n",
    "        #     f\"./Corrected/Lemonada/{filename}\",\n",
    "        #     corrected,\n",
    "        #     check_contrast=False, )"
   ]
  },
  {
   "cell_type": "markdown",
   "metadata": {},
   "source": [
    "<span style=\"color:#fff; font-family: 'Bebas Neue'; font-size: 3em;\" >Feature Extraction Module</span>"
   ]
  },
  {
   "cell_type": "code",
   "execution_count": 36,
   "metadata": {},
   "outputs": [],
   "source": [
    "def extract_features(input):\n",
    "     descriptors=[]\n",
    "     data=[]\n",
    "     for  img in (input):\n",
    "         _, des = sift.detectAndCompute(img, None)\n",
    "         data.append(des)\n",
    "         if des is not None:\n",
    "               for d in des:\n",
    "                    descriptors.append(d)\n",
    "     return  descriptors ,data"
   ]
  },
  {
   "cell_type": "code",
   "execution_count": 12,
   "metadata": {},
   "outputs": [],
   "source": [
    "def generate_hist(input,kmeans):\n",
    "    data = []\n",
    "    kmeans.verbose = False\n",
    "    for img in tqdm(input):     \n",
    "                histo = np.zeros(k)\n",
    "                nkp = np.size(len(img))\n",
    "                if(img is not None):\n",
    "                    for d in img:\n",
    "                        idx = kmeans.predict([d])\n",
    "                        histo[idx] += 1/nkp # Because we need normalized histograms, I prefere to add 1/nkp directly\n",
    "                data.append(histo) \n",
    "    return  data\n",
    "     "
   ]
  },
  {
   "cell_type": "code",
   "execution_count": 13,
   "metadata": {},
   "outputs": [],
   "source": [
    "Lemonada = np.array(Lemonada)\n",
    "IBM = np.array(IBM)\n",
    "Marhey = np.array(Marhey)\n",
    "Scheherazade = np.array(Scheherazade)\n",
    "\n",
    "Data=np.concatenate((Scheherazade,Marhey,Lemonada,IBM))\n",
    "labels = np.concatenate(\n",
    "    (np.zeros(Scheherazade.shape[0]), np.ones(Marhey.shape[0]), np.ones(Lemonada.shape[0]) * 2, np.ones(IBM.shape[0]) * 3))\n",
    "\n",
    "\n",
    "X_train, X_test, Y_train, Y_test = train_test_split( Data, labels, test_size=0.4, random_state=42)\n",
    "X_validation, X_test, Y_validation, Y_test = train_test_split( X_test, Y_test, test_size=0.5, random_state=42)\n"
   ]
  },
  {
   "cell_type": "code",
   "execution_count": 39,
   "metadata": {},
   "outputs": [],
   "source": [
    "validation_descriptors,data_validation=extract_features(X_validation)\n",
    "train_descriptors,data_train=extract_features(X_train)\n",
    "test_descriptors,data_test=extract_features(X_test)\n"
   ]
  },
  {
   "cell_type": "code",
   "execution_count": 40,
   "metadata": {},
   "outputs": [
    {
     "name": "stderr",
     "output_type": "stream",
     "text": [
      "c:\\Python311\\Lib\\site-packages\\sklearn\\cluster\\_kmeans.py:1934: FutureWarning: The default value of `n_init` will change from 3 to 'auto' in 1.4. Set the value of `n_init` explicitly to suppress the warning\n",
      "  super()._check_params_vs_input(X, default_n_init=3)\n",
      "100%|██████████| 2398/2398 [12:04<00:00,  3.31it/s]\n",
      "100%|██████████| 799/799 [05:04<00:00,  2.63it/s]\n",
      "100%|██████████| 800/800 [04:39<00:00,  2.86it/s]\n"
     ]
    }
   ],
   "source": [
    "k=1700\n",
    "kmeans = MiniBatchKMeans(n_clusters=k, verbose=0).fit(train_descriptors)\n",
    "with open( 'kmeans.pkl', 'wb') as file:\n",
    "    pickle.dump(kmeans, file)\n",
    "train_histo=generate_hist(data_train,kmeans)\n",
    "validation_histo=generate_hist(data_validation,kmeans)\n",
    "histo_test=generate_hist(data_test,kmeans)\n"
   ]
  },
  {
   "cell_type": "markdown",
   "metadata": {},
   "source": [
    "<span style=\"color:#fff; font-family: 'Bebas Neue'; font-size: 3em;\" >Model Selection/Training Module</span>"
   ]
  },
  {
   "cell_type": "code",
   "execution_count": 50,
   "metadata": {},
   "outputs": [
    {
     "name": "stdout",
     "output_type": "stream",
     "text": [
      "SVM Model Accuracy 99.12390488110138\n"
     ]
    }
   ],
   "source": [
    "#  make a prediction with probability true to debug\n",
    "\n",
    "svm_classifier = svm.SVC(C=4.0, gamma='scale')\n",
    "svm_classifier.fit(train_histo, Y_train)\n",
    "with open( 'svm_classifier.pkl', 'wb') as file:\n",
    "    pickle.dump(svm_classifier, file)\n",
    "y_pred = svm_classifier.predict(validation_histo)\n",
    "\n",
    "print(\"SVM Model Accuracy\",accuracy_score(Y_validation, y_pred) * 100)\n"
   ]
  },
  {
   "cell_type": "code",
   "execution_count": 43,
   "metadata": {},
   "outputs": [
    {
     "name": "stdout",
     "output_type": "stream",
     "text": [
      "knn Model Accuracy 97.74718397997498\n"
     ]
    }
   ],
   "source": [
    "knn = KNeighborsClassifier(n_neighbors=10)\n",
    "knn.fit(train_histo, Y_train)\n",
    "\n",
    "\n",
    "\n",
    "y_pred = knn.predict(validation_histo)\n",
    "\n",
    "print(\"knn Model Accuracy\",accuracy_score(Y_validation, y_pred) * 100)\n",
    "\n"
   ]
  },
  {
   "cell_type": "code",
   "execution_count": 44,
   "metadata": {},
   "outputs": [
    {
     "name": "stdout",
     "output_type": "stream",
     "text": [
      "random forest Model Accuracy 98.6232790988736\n"
     ]
    }
   ],
   "source": [
    "\n",
    "rf = RandomForestClassifier(random_state=42, n_jobs=-1, max_depth=40,\n",
    "                                       n_estimators=200, oob_score=True)\n",
    "\n",
    "rf.fit(train_histo, Y_train)\n",
    "y_pred = rf.predict(validation_histo)\n",
    "print(\"random forest Model Accuracy\",accuracy_score(Y_validation, y_pred) * 100)\n"
   ]
  },
  {
   "cell_type": "code",
   "execution_count": 45,
   "metadata": {},
   "outputs": [
    {
     "name": "stdout",
     "output_type": "stream",
     "text": [
      "XGBoost Model Accuracy 98.3729662077597\n"
     ]
    }
   ],
   "source": [
    "\n",
    "xgb_clf = xgb.XGBClassifier(\n",
    "    n_estimators=100,  # Number of boosting rounds\n",
    "    max_depth=40,  # Maximum tree depth\n",
    "    learning_rate=0.1,  # Learning rate for gradient boosting\n",
    "    objective='multi:softmax',  # Multi-class objective\n",
    "    num_class=4,\n",
    "    random_state=42,\n",
    "    n_jobs=-1  # Use all available CPU cores\n",
    ")\n",
    "\n",
    "\n",
    "xgb_clf.fit(train_histo, Y_train)\n",
    "y_pred = xgb_clf.predict(validation_histo)\n",
    "print(\"XGBoost Model Accuracy\",accuracy_score(Y_validation, y_pred) * 100)\n"
   ]
  },
  {
   "cell_type": "code",
   "execution_count": 46,
   "metadata": {},
   "outputs": [
    {
     "name": "stderr",
     "output_type": "stream",
     "text": [
      "c:\\Python311\\Lib\\site-packages\\sklearn\\cluster\\_kmeans.py:1934: FutureWarning: The default value of `n_init` will change from 3 to 'auto' in 1.4. Set the value of `n_init` explicitly to suppress the warning\n",
      "  super()._check_params_vs_input(X, default_n_init=3)\n",
      "100%|██████████| 2398/2398 [13:40<00:00,  2.92it/s] \n",
      "100%|██████████| 799/799 [03:44<00:00,  3.56it/s]\n",
      "100%|██████████| 800/800 [03:50<00:00,  3.48it/s]\n"
     ]
    }
   ],
   "source": [
    "kmeans = MiniBatchKMeans(n_clusters=k, verbose=0).fit(train_descriptors+validation_descriptors+test_descriptors)\n",
    "with open( 'final_kmeans.pkl', 'wb') as file:\n",
    "    pickle.dump(kmeans, file)\n",
    "\n",
    "train_histo=generate_hist(data_train,kmeans)\n",
    "validation_histo=generate_hist(data_validation,kmeans)\n",
    "histo_test=generate_hist(data_test,kmeans)\n",
    "\n",
    "\n",
    "final_data=train_histo+validation_histo+histo_test\n",
    "\n",
    "final_labels=np.concatenate((Y_train,Y_validation,Y_test))\n",
    "\n",
    "svm_classifier.fit(final_data, final_labels)\n",
    "with open( 'final_svm.pkl', 'wb') as file:\n",
    "    pickle.dump(svm_classifier, file)\n"
   ]
  },
  {
   "cell_type": "code",
   "execution_count": 47,
   "metadata": {},
   "outputs": [
    {
     "name": "stdout",
     "output_type": "stream",
     "text": [
      "Stored 'train_descriptors' (list)\n",
      "Stored 'data_validation' (list)\n",
      "Stored 'data_train' (list)\n",
      "Stored 'Y_train' (ndarray)\n",
      "Stored 'Y_validation' (ndarray)\n",
      "Stored 'X_test' (ndarray)\n",
      "Stored 'Y_test' (ndarray)\n",
      "Stored 'histo_test' (list)\n"
     ]
    }
   ],
   "source": [
    "%store  train_descriptors \n",
    "%store  data_validation \n",
    "%store  data_train \n",
    "%store  Y_train \n",
    "%store  Y_validation \n",
    "%store  X_test \n",
    "%store  Y_test \n",
    "%store histo_test"
   ]
  }
 ],
 "metadata": {
  "kernelspec": {
   "display_name": "Python 3",
   "language": "python",
   "name": "python3"
  },
  "language_info": {
   "codemirror_mode": {
    "name": "ipython",
    "version": 3
   },
   "file_extension": ".py",
   "mimetype": "text/x-python",
   "name": "python",
   "nbconvert_exporter": "python",
   "pygments_lexer": "ipython3",
   "version": "3.11.4"
  }
 },
 "nbformat": 4,
 "nbformat_minor": 2
}
