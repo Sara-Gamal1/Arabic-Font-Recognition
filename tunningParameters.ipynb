{
 "cells": [
  {
   "cell_type": "code",
   "execution_count": 18,
   "metadata": {},
   "outputs": [],
   "source": [
    "import import_ipynb\n",
    "from sklearn.model_selection import GridSearchCV\n"
   ]
  },
  {
   "cell_type": "code",
   "execution_count": 19,
   "metadata": {},
   "outputs": [],
   "source": [
    "%store -r train_descriptors \n",
    "%store -r data_validation \n",
    "%store -r data_train \n",
    "%store -r Y_train \n",
    "%store -r Y_validation \n",
    "\n"
   ]
  },
  {
   "cell_type": "code",
   "execution_count": 21,
   "metadata": {},
   "outputs": [],
   "source": [
    "def generate_hist(input,kmeans):\n",
    "    data = []\n",
    "    kmeans.verbose = False\n",
    "    for img in tqdm(input):     \n",
    "                histo = np.zeros(k)\n",
    "                nkp = np.size(len(img))\n",
    "                if(img is not None):\n",
    "                    for d in img:\n",
    "                        idx = kmeans.predict([d])\n",
    "                        histo[idx] += 1/nkp # Because we need normalized histograms, I prefere to add 1/nkp directly\n",
    "                data.append(histo) \n",
    "    return  data\n",
    "     "
   ]
  },
  {
   "cell_type": "markdown",
   "metadata": {},
   "source": [
    "<span style=\"color:#fff; font-family: 'Bebas Neue'; font-size: 1em;\" >choosing the best K</span>"
   ]
  },
  {
   "cell_type": "code",
   "execution_count": 22,
   "metadata": {},
   "outputs": [
    {
     "name": "stderr",
     "output_type": "stream",
     "text": [
      "  0%|          | 0/5 [00:00<?, ?it/s]"
     ]
    },
    {
     "name": "stderr",
     "output_type": "stream",
     "text": [
      "c:\\Python311\\Lib\\site-packages\\sklearn\\cluster\\_kmeans.py:1934: FutureWarning: The default value of `n_init` will change from 3 to 'auto' in 1.4. Set the value of `n_init` explicitly to suppress the warning\n",
      "  super()._check_params_vs_input(X, default_n_init=3)\n",
      "100%|██████████| 799/799 [02:05<00:00,  6.34it/s]\n",
      "100%|██████████| 2398/2398 [06:37<00:00,  6.03it/s]\n",
      " 20%|██        | 1/5 [08:51<35:27, 531.89s/it]c:\\Python311\\Lib\\site-packages\\sklearn\\cluster\\_kmeans.py:1934: FutureWarning: The default value of `n_init` will change from 3 to 'auto' in 1.4. Set the value of `n_init` explicitly to suppress the warning\n",
      "  super()._check_params_vs_input(X, default_n_init=3)\n",
      "100%|██████████| 799/799 [08:06<00:00,  1.64it/s]\n",
      "100%|██████████| 2398/2398 [16:18<00:00,  2.45it/s]\n",
      " 40%|████      | 2/5 [33:51<55:03, 1101.14s/it]c:\\Python311\\Lib\\site-packages\\sklearn\\cluster\\_kmeans.py:1934: FutureWarning: The default value of `n_init` will change from 3 to 'auto' in 1.4. Set the value of `n_init` explicitly to suppress the warning\n",
      "  super()._check_params_vs_input(X, default_n_init=3)\n",
      "100%|██████████| 799/799 [06:51<00:00,  1.94it/s]\n",
      "100%|██████████| 2398/2398 [22:52<00:00,  1.75it/s]\n",
      " 60%|██████    | 3/5 [1:04:27<47:53, 1436.55s/it]c:\\Python311\\Lib\\site-packages\\sklearn\\cluster\\_kmeans.py:1934: FutureWarning: The default value of `n_init` will change from 3 to 'auto' in 1.4. Set the value of `n_init` explicitly to suppress the warning\n",
      "  super()._check_params_vs_input(X, default_n_init=3)\n",
      "100%|██████████| 799/799 [04:18<00:00,  3.09it/s]\n",
      "100%|██████████| 2398/2398 [10:17<00:00,  3.88it/s]\n",
      " 80%|████████  | 4/5 [1:20:07<20:40, 1240.71s/it]c:\\Python311\\Lib\\site-packages\\sklearn\\cluster\\_kmeans.py:1934: FutureWarning: The default value of `n_init` will change from 3 to 'auto' in 1.4. Set the value of `n_init` explicitly to suppress the warning\n",
      "  super()._check_params_vs_input(X, default_n_init=3)\n",
      "100%|██████████| 799/799 [03:45<00:00,  3.54it/s]\n"
     ]
    }
   ],
   "source": [
    "K = [10,500,1000,1500,2000]\n",
    "\n",
    "# Lists to store training and test accuracies\n",
    "validation_accuracies = []\n",
    "train_accuracies = []\n",
    "\n",
    "# Train SVM models with different values of K\n",
    "for k in tqdm(K):\n",
    "    kmeans = MiniBatchKMeans(n_clusters=k, verbose=0).fit(train_descriptors)\n",
    "    validation_histo=generate_hist(data_validation,kmeans)\n",
    "    train_histo=generate_hist(data_train,kmeans)\n",
    "    model = svm.SVC( C=4)\n",
    "    model.fit(train_histo, Y_train)\n",
    "\n",
    "   \n",
    "    # Compute test accuracy\n",
    "    validation_accuracy = model.score(validation_histo, Y_validation)\n",
    "    validation_accuracies.append(validation_accuracy)\n",
    "\n",
    "    train_accuracy = model.score(train_histo, Y_train)\n",
    "    train_accuracies.append(train_accuracy)\n",
    "\n",
    "# Plotting\n",
    "plt.figure(figsize=(10, 6))\n",
    "plt.plot(K, validation_accuracies, marker=\"o\", label=\"Test Accuracy\")\n",
    "plt.plot(K, train_accuracies, marker=\"o\", label=\"Train Accuracy\")\n",
    "plt.xlabel(\"K\")\n",
    "plt.ylabel(\"Accuracy\")\n",
    "plt.title(\"Training and validation Accuracy vs. K\")\n",
    "plt.legend()\n",
    "plt.grid(True)\n",
    "plt.show()"
   ]
  },
  {
   "cell_type": "code",
   "execution_count": null,
   "metadata": {},
   "outputs": [],
   "source": []
  }
 ],
 "metadata": {
  "kernelspec": {
   "display_name": "Python 3",
   "language": "python",
   "name": "python3"
  },
  "language_info": {
   "codemirror_mode": {
    "name": "ipython",
    "version": 3
   },
   "file_extension": ".py",
   "mimetype": "text/x-python",
   "name": "python",
   "nbconvert_exporter": "python",
   "pygments_lexer": "ipython3",
   "version": "3.11.4"
  }
 },
 "nbformat": 4,
 "nbformat_minor": 2
}
